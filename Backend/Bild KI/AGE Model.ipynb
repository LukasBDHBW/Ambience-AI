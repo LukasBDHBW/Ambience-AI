{
 "cells": [
  {
   "cell_type": "code",
   "execution_count": null,
   "metadata": {},
   "outputs": [],
   "source": []
  }
 ],
 "metadata": {
  "kernelspec": {
   "display_name": "Python 3.10.4 64-bit",
   "language": "python",
   "name": "python3"
  },
  "language_info": {
   "name": "python",
   "version": "3.10.4"
  },
  "orig_nbformat": 4,
  "vscode": {
   "interpreter": {
    "hash": "8b42eb64753083c9a9762b0312b5e78d80f0d25f3994c5915ca6d3c7ad8fe389"
   }
  }
 },
 "nbformat": 4,
 "nbformat_minor": 2
}
