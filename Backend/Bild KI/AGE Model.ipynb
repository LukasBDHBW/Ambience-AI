{
 "cells": [
  {
   "cell_type": "code",
   "execution_count": null,
   "metadata": {},
   "outputs": [],
   "source": []
  },
  {
   "cell_type": "code",
   "execution_count": null,
   "metadata": {},
   "outputs": [],
   "source": []
  },
  {
   "cell_type": "code",
   "execution_count": null,
   "metadata": {},
   "outputs": [],
   "source": []
  },
  {
   "cell_type": "code",
   "execution_count": 5,
   "metadata": {},
   "outputs": [
    {
     "name": "stdout",
     "output_type": "stream",
     "text": [
      "[array([[1.]], dtype=float32), array([[973.6558]], dtype=float32)]\n"
     ]
    }
   ],
   "source": [
    "#img = tf.image.rgb_to_grayscale(img_rgb)\n",
    "img = img_rgb\n",
    "img_array = image.img_to_array(img)\n",
    "img_batch = np.expand_dims(img_array,axis = 0)\n",
    "#img_preprocessed = preprocess_input(img_batch)\n",
    "prediction = model.predict(img_batch)\n",
    "print(prediction)"
   ]
  },
  {
   "cell_type": "code",
   "execution_count": 7,
   "metadata": {},
   "outputs": [],
   "source": [
    "import requests\n",
    "from PIL import Image\n",
    "from io import BytesIO\n",
    "\n",
    "from tensorflow.keras.applications.resnet50 import preprocess_input, decode_predictions\n",
    "from tensorflow.keras.preprocessing import image\n",
    "\n",
    "from transformers import ViTFeatureExtractor, ViTForImageClassification\n",
    "\n",
    "im = image.load_img(\"./Test-Images/mann.jpg\")\n",
    "\n",
    "# Init model, transforms\n",
    "#model = ViTForImageClassification.from_pretrained('nateraw/vit-age-classifier')\n",
    "#transforms = ViTFeatureExtractor.from_pretrained('nateraw/vit-age-classifier')\n",
    "\n",
    "model = ViTForImageClassification.from_pretrained('./Age-Model')\n",
    "transforms = ViTFeatureExtractor.from_pretrained('./Age-Model')\n",
    "\n",
    "# Transform our image and pass it through the model\n",
    "inputs = transforms(im, return_tensors='pt')\n",
    "output = model(**inputs)\n",
    "\n",
    "# Predicted Class probabilities\n",
    "proba = output.logits.softmax(1)\n",
    "\n",
    "# Predicted Classes\n",
    "preds = proba.argmax(1)\n"
   ]
  },
  {
   "cell_type": "code",
   "execution_count": 8,
   "metadata": {},
   "outputs": [],
   "source": [
    "id2label={\n",
    "    \"0\": \"0-2\",\n",
    "    \"1\": \"3-9\",\n",
    "    \"2\": \"10-19\",\n",
    "    \"3\": \"20-29\",\n",
    "    \"4\": \"30-39\",\n",
    "    \"5\": \"40-49\",\n",
    "    \"6\": \"50-59\",\n",
    "    \"7\": \"60-69\",\n",
    "    \"8\": \"more than 70\"}"
   ]
  },
  {
   "cell_type": "code",
   "execution_count": 9,
   "metadata": {},
   "outputs": [
    {
     "name": "stdout",
     "output_type": "stream",
     "text": [
      "40-49\n"
     ]
    }
   ],
   "source": [
    "print(id2label[str(preds.item())])"
   ]
  },
  {
   "cell_type": "code",
   "execution_count": null,
   "metadata": {},
   "outputs": [],
   "source": []
  }
 ],
 "metadata": {
  "kernelspec": {
   "display_name": "Python 3.9.7 ('base')",
   "language": "python",
   "name": "python3"
  },
  "language_info": {
   "codemirror_mode": {
    "name": "ipython",
    "version": 3
   },
   "file_extension": ".py",
   "mimetype": "text/x-python",
   "name": "python",
   "nbconvert_exporter": "python",
   "pygments_lexer": "ipython3",
   "version": "3.9.7 (default, Sep 16 2021, 16:59:28) [MSC v.1916 64 bit (AMD64)]"
  },
  "orig_nbformat": 4,
  "vscode": {
   "interpreter": {
    "hash": "d64964220b153404c51aa93dcd182e383dd0be91e8cdd8465241601d68e77747"
   }
  }
 },
 "nbformat": 4,
 "nbformat_minor": 2
}
