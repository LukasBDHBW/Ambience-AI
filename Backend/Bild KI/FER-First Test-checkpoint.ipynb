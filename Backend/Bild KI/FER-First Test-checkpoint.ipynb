{
 "cells": [
  {
   "cell_type": "code",
   "execution_count": 16,
   "id": "c265dc16",
   "metadata": {},
   "outputs": [],
   "source": [
    "import tensorflow as tf\n",
    "from tensorflow import keras\n",
    "import numpy as np\n",
    "\n",
    "from tensorflow.keras.applications.resnet50 import preprocess_input, decode_predictions\n",
    "from tensorflow.keras.preprocessing import image\n",
    "\n",
    "model = keras.models.load_model(\"./ferNet.h5\")"
   ]
  },
  {
   "cell_type": "code",
   "execution_count": 17,
   "id": "a899fa51",
   "metadata": {},
   "outputs": [
    {
     "name": "stderr",
     "output_type": "stream",
     "text": [
      "c:\\Users\\a829727\\Anaconda3\\envs\\ace_new\\lib\\site-packages\\keras\\utils\\image_utils.py:382: UserWarning: grayscale is deprecated. Please use color_mode = \"grayscale\"\n",
      "  warnings.warn('grayscale is deprecated. Please use '\n"
     ]
    },
    {
     "data": {
      "image/png": "[encoded data removed]",
      "text/plain": [
       "<PIL.Image.Image image mode=L size=48x48>"
      ]
     },
     "execution_count": 17,
     "metadata": {},
     "output_type": "execute_result"
    }
   ],
   "source": [
    "img_rgb = image.load_img(\"./Test-Images/face.jpeg\", target_size=(48,48),grayscale = True, color_mode = \"grayscale\")\n",
    "img_rgb"
   ]
  },
  {
   "cell_type": "code",
   "execution_count": 18,
   "id": "aefd95f2",
   "metadata": {},
   "outputs": [
    {
     "name": "stdout",
     "output_type": "stream",
     "text": [
      "1/1 [==============================] - 1s 835ms/step\n",
      "angry\n"
     ]
    }
   ],
   "source": [
    "\n",
    "#img = tf.image.rgb_to_grayscale(img_rgb)\n",
    "img = img_rgb\n",
    "img_array = image.img_to_array(img)\n",
    "img_batch = np.expand_dims(img_array,axis = 0)\n",
    "#img_preprocessed = preprocess_input(img_batch)\n",
    "prediction = model.predict(img_batch)\n",
    "Ergebnis=['angry','disgust','fear','happy','neutral','sad','surprise']\n",
    "print(Ergebnis[prediction[0].argmax()])"
   ]
  },
  {
   "cell_type": "code",
   "execution_count": null,
   "id": "b2f0afe7",
   "metadata": {},
   "outputs": [],
   "source": [
    "\n",
    "\n"
   ]
  },
  {
   "cell_type": "code",
   "execution_count": 19,
   "id": "a8504ca1",
   "metadata": {},
   "outputs": [],
   "source": [
    "# https://www.kaggle.com/code/anantgupt/facial-emotion-recogination-91-accuracy-train-set/notebook"
   ]
  },
  {
   "cell_type": "code",
   "execution_count": null,
   "id": "b74eaccd",
   "metadata": {},
   "outputs": [],
   "source": []
  }
 ],
 "metadata": {
  "kernelspec": {
   "display_name": "Python 3.10.4 ('ace_new')",
   "language": "python",
   "name": "python3"
  },
  "language_info": {
   "codemirror_mode": {
    "name": "ipython",
    "version": 3
   },
   "file_extension": ".py",
   "mimetype": "text/x-python",
   "name": "python",
   "nbconvert_exporter": "python",
   "pygments_lexer": "ipython3",
   "version": "3.10.4"
  },
  "vscode": {
   "interpreter": {
    "hash": "92c44a281aaec23f21b93d1d3e4502988502f990a9613289b860879d8e63a18c"
   }
  }
 },
 "nbformat": 4,
 "nbformat_minor": 5
}
