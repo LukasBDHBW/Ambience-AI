{
 "cells": [
  {
   "cell_type": "code",
   "execution_count": null,
   "metadata": {},
   "outputs": [],
   "source": [
    "# Import necessary libraries\n",
    "import tensorflow as tf\n",
    "import cv2\n",
    "\n",
    "# Read input image and preprocess it\n",
    "image = cv2.imread(\"input.jpg\")\n",
    "image = cv2.resize(image, (224, 224))\n",
    "image = image / 255.0\n",
    "\n",
    "# Load pre-trained machine learning model\n",
    "model = tf.keras.models.load_model(\"age_emotion_model.h5\")\n",
    "\n",
    "# Make predictions on the input image\n",
    "predictions = model.predict(image)\n",
    "\n",
    "# Determine the most likely age and emotion\n",
    "age = predictions[0]\n",
    "emotion = predictions[1]\n",
    "\n",
    "# Print the results\n",
    "print(\"Age:\", age)\n",
    "print(\"Emotion:\", emotion)"
   ]
  }
 ],
 "metadata": {
  "language_info": {
   "name": "python"
  },
  "orig_nbformat": 4
 },
 "nbformat": 4,
 "nbformat_minor": 2
}
