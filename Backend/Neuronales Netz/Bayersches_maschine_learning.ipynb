{
 "cells": [
  {
   "cell_type": "code",
   "execution_count": 9,
   "metadata": {},
   "outputs": [],
   "source": [
    "import pandas as pd\n",
    "from sklearn.naive_bayes import CategoricalNB"
   ]
  },
  {
   "cell_type": "code",
   "execution_count": 10,
   "metadata": {},
   "outputs": [],
   "source": [
    "#daten laden\n",
    "df = pd.read_csv(\"../../Datensatz/data.csv\")"
   ]
  },
  {
   "cell_type": "code",
   "execution_count": 11,
   "metadata": {},
   "outputs": [],
   "source": [
    "# Feature-Matrix und Target-Vektor aus dem Dataframe erstellen\n",
    "X = df[['age', 'emotions']]\n",
    "y = df['product']"
   ]
  },
  {
   "cell_type": "code",
   "execution_count": 12,
   "metadata": {},
   "outputs": [
    {
     "data": {
      "text/plain": [
       "CategoricalNB()"
      ]
     },
     "execution_count": 12,
     "metadata": {},
     "output_type": "execute_result"
    }
   ],
   "source": [
    "# Modell erstellen und trainieren\n",
    "model = CategoricalNB()\n",
    "model.fit(X, y)"
   ]
  },
  {
   "cell_type": "code",
   "execution_count": 1,
   "metadata": {},
   "outputs": [],
   "source": [
    "# Funktion für die vorhersage des Modells\n",
    "def ml_predict(age_input,emotions_input):\n",
    "    products = [\"Girokonto\",\"Gemeinschaftskonto\",\"Kreditkarte\",\"Tagesgeldkonto\",\"Sparplan\",\"Bausparplan\",\n",
    "    \"Edelmetall Depot\",\"Aktien Depot\",\"Aktiensparplan\",\"ETF Sparplan\",\"Privatkredit\",\"Umschuldung\",\"Immobilienfinanzierung\",\n",
    "    \"Immobilien\",\"Hebel Zertifikate\",\"Crypto\",\"Lebensversicherung\",\"Private Rentenversicherung\",\"NFTs\",\"Berufsunfähigkeitsversicherung\",\"NFT, Crypto\"]\n",
    "    emotions = ['angry','disgust','fear','happy','neutral','sad','surprise']\n",
    "    ages=[\"Jung\",\"Erwachsen\",\"Alt\"]\n",
    "    age=ages.index(age_input)\n",
    "    emotion=emotions.index(emotions_input)\n",
    "    prediction = model.predict([[(age+1),(emotion+1)]])\n",
    "    prediction = prediction[0]\n",
    "    print(f\"Das Ergebnis bei einer Eingabe von {age_input} und {emotions_input} ist das zu Empfehlende Produkt: {prediction}\")"
   ]
  },
  {
   "cell_type": "code",
   "execution_count": 51,
   "metadata": {},
   "outputs": [
    {
     "name": "stdout",
     "output_type": "stream",
     "text": [
      "Das Ergebnis bei einer Eingabe von Jung und disgust ist das zu Empfehlende Produkt: NFT\n"
     ]
    },
    {
     "name": "stderr",
     "output_type": "stream",
     "text": [
      "c:\\Users\\a829727\\Anaconda3\\envs\\ace_new\\lib\\site-packages\\sklearn\\base.py:450: UserWarning: X does not have valid feature names, but CategoricalNB was fitted with feature names\n",
      "  warnings.warn(\n"
     ]
    }
   ],
   "source": [
    "#Test des Modells\n",
    "ml_predict(\"Jung\",\"disgust\")"
   ]
  },
  {
   "cell_type": "code",
   "execution_count": null,
   "metadata": {},
   "outputs": [],
   "source": []
  }
 ],
 "metadata": {
  "kernelspec": {
   "display_name": "ace_new",
   "language": "python",
   "name": "python3"
  },
  "language_info": {
   "codemirror_mode": {
    "name": "ipython",
    "version": 3
   },
   "file_extension": ".py",
   "mimetype": "text/x-python",
   "name": "python",
   "nbconvert_exporter": "python",
   "pygments_lexer": "ipython3",
   "version": "3.10.4 | packaged by conda-forge | (main, Mar 30 2022, 08:38:02) [MSC v.1916 64 bit (AMD64)]"
  },
  "orig_nbformat": 4,
  "vscode": {
   "interpreter": {
    "hash": "92c44a281aaec23f21b93d1d3e4502988502f990a9613289b860879d8e63a18c"
   }
  }
 },
 "nbformat": 4,
 "nbformat_minor": 2
}
