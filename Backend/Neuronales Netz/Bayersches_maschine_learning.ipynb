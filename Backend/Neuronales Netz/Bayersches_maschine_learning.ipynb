{
 "cells": [
  {
   "cell_type": "code",
   "execution_count": 3,
   "metadata": {},
   "outputs": [],
   "source": [
    "import pandas as pd\n",
    "from sklearn.naive_bayes import CategoricalNB\n",
    "import pickle"
   ]
  },
  {
   "cell_type": "code",
   "execution_count": 3,
   "metadata": {},
   "outputs": [],
   "source": [
    "#daten laden\n",
    "df = pd.read_csv(\"../../Datensatz/data.csv\")"
   ]
  },
  {
   "cell_type": "code",
   "execution_count": 4,
   "metadata": {},
   "outputs": [],
   "source": [
    "# Feature-Matrix und Target-Vektor aus dem Dataframe erstellen\n",
    "X = df[['age', 'emotions']]\n",
    "y = df['product']"
   ]
  },
  {
   "cell_type": "code",
   "execution_count": 5,
   "metadata": {},
   "outputs": [
    {
     "data": {
      "text/plain": [
       "CategoricalNB()"
      ]
     },
     "execution_count": 5,
     "metadata": {},
     "output_type": "execute_result"
    }
   ],
   "source": [
    "# Modell erstellen und trainieren\n",
    "model = CategoricalNB()\n",
    "model.fit(X, y)"
   ]
  },
  {
   "cell_type": "code",
   "execution_count": 6,
   "metadata": {},
   "outputs": [],
   "source": [
    "#Modell speichern\n",
    "pickle.dump(model, open(\"product_model.sav\", 'wb'))"
   ]
  },
  {
   "cell_type": "code",
   "execution_count": 4,
   "metadata": {},
   "outputs": [],
   "source": [
    "# Funktion für die vorhersage des Modells\n",
    "def ml_predict(age_input,emotions_input):\n",
    "    loaded_model = pickle.load(open(\"product_model.sav\", 'rb'))\n",
    "    products = [\"Girokonto\",\"Gemeinschaftskonto\",\"Kreditkarte\",\"Tagesgeldkonto\",\"Sparplan\",\"Bausparplan\",\n",
    "                \"Edelmetall Depot\",\"Aktien Depot\",\"Aktiensparplan\",\"ETF Sparplan\",\"Privatkredit\",\"Umschuldung\",\"Immobilienfinanzierung\",\n",
    "                \"Immobilien\",\"Hebel Zertifikate\",\"Crypto\",\"Lebensversicherung\",\"Rentenversicherung\",\"NFT\",\"Berufsunfähigkeitsversicherung\",\n",
    "                \"Crypto, Hebel Zertifikate\",\"Immobilien, Bausparvertrag\",\"Gemeinschaftskonto, Tagesgeldkonto\",\"NFT, Crypto\",\"Staatsanleihen\",\"Bausparvertrag, Aktien Sparplan\"]\n",
    "    emotions = ['angry','disgust','fear','happy','neutral','sad','surprise']\n",
    "    ages=[\"Jung\",\"Erwachsen\",\"Alt\"]\n",
    "    age=ages.index(age_input)\n",
    "    emotion=emotions.index(emotions_input)\n",
    "    prediction = loaded_model.predict([[(age+1),(emotion+1)]])\n",
    "    prediction = products[prediction[0]-1]\n",
    "    print(f\"Das Ergebnis bei einer Eingabe von {age_input} und {emotions_input} ist das zu Empfehlende Produkt: {prediction}\")"
   ]
  },
  {
   "cell_type": "code",
   "execution_count": 5,
   "metadata": {},
   "outputs": [
    {
     "name": "stdout",
     "output_type": "stream",
     "text": [
      "Das Ergebnis bei einer Eingabe von Alt und angry ist das zu Empfehlende Produkt: Privatkredit\n"
     ]
    },
    {
     "name": "stderr",
     "output_type": "stream",
     "text": [
      "c:\\Users\\Marcus Wirth\\AppData\\Local\\Programs\\Python\\Python310\\lib\\site-packages\\sklearn\\base.py:450: UserWarning: X does not have valid feature names, but CategoricalNB was fitted with feature names\n",
      "  warnings.warn(\n"
     ]
    }
   ],
   "source": [
    "#Test des Modells\n",
    "ml_predict(\"Alt\",\"angry\")"
   ]
  },
  {
   "cell_type": "code",
   "execution_count": null,
   "metadata": {},
   "outputs": [],
   "source": []
  }
 ],
 "metadata": {
  "kernelspec": {
   "display_name": "Python 3",
   "language": "python",
   "name": "python3"
  },
  "language_info": {
   "codemirror_mode": {
    "name": "ipython",
    "version": 3
   },
   "file_extension": ".py",
   "mimetype": "text/x-python",
   "name": "python",
   "nbconvert_exporter": "python",
   "pygments_lexer": "ipython3",
   "version": "3.10.0 (tags/v3.10.0:b494f59, Oct  4 2021, 19:00:18) [MSC v.1929 64 bit (AMD64)]"
  },
  "orig_nbformat": 4,
  "vscode": {
   "interpreter": {
    "hash": "911b5a9d0f0b251857fd17856de54e552d303a085f06cf92d02c1cf934cbbd77"
   }
  }
 },
 "nbformat": 4,
 "nbformat_minor": 2
}
