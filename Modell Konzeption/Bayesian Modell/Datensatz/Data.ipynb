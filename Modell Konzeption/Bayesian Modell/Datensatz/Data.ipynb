{
 "cells": [
  {
   "cell_type": "code",
   "execution_count": 8,
   "metadata": {},
   "outputs": [],
   "source": [
    "import pandas as pd\n",
    "import random"
   ]
  },
  {
   "cell_type": "code",
   "execution_count": 9,
   "metadata": {},
   "outputs": [
    {
     "data": {
      "text/plain": [
       "26"
      ]
     },
     "execution_count": 9,
     "metadata": {},
     "output_type": "execute_result"
    }
   ],
   "source": [
    "#Produkte Emotionen und Altersgruppen\n",
    "products = [\"Girokonto\",\"Gemeinschaftskonto\",\"Kreditkarte\",\"Tagesgeldkonto\",\"Sparplan\",\"Bausparplan\",\n",
    "\"Edelmetall Depot\",\"Aktien Depot\",\"Aktiensparplan\",\"ETF Sparplan\",\"Privatkredit\",\"Umschuldung\",\"Immobilienfinanzierung\",\n",
    "\"Immobilien\",\"Hebel Zertifikate\",\"Crypto\",\"Lebensversicherung\",\"Rentenversicherung\",\"NFT\",\"Berufsunfähigkeitsversicherung\",\n",
    "\"Crypto, Hebel Zertifikate\",\"Immobilien, Bausparvertrag\",\"Gemeinschaftskonto, Tagesgeldkonto\",\"NFT, Crypto\",\"Staatsanleihen\",\"Bausparvertrag, Aktien Sparplan\"]\n",
    "emotions = ['angry','disgust','fear','happy','neutral','sad','surprise']\n",
    "ages=[\"Jung\",\"Erwachsen\",\"Alt\"]\n",
    "len(products)"
   ]
  },
  {
   "cell_type": "code",
   "execution_count": 10,
   "metadata": {},
   "outputs": [
    {
     "data": {
      "text/plain": [
       "age      \n",
       "Erwachsen    10422\n",
       "Alt           5868\n",
       "Jung          3710\n",
       "dtype: int64"
      ]
     },
     "execution_count": 10,
     "metadata": {},
     "output_type": "execute_result"
    }
   ],
   "source": [
    "#Verteilung nach größe der gesellschaftlichen Gruppen\n",
    "age=[]\n",
    "for i in range(round(20000*0.1855)):\n",
    "    age.append(\"Jung\")\n",
    "for i in range(round(20000*0.5211)):\n",
    "    age.append(\"Erwachsen\")\n",
    "for i in range(round(20000*(1-0.1855-0.5211))):\n",
    "    age.append(\"Alt\")\n",
    "#hinzufügen der Spalte age zu den Daten\n",
    "data=pd.DataFrame(age,columns=[\"age\"])\n",
    "\n",
    "data.value_counts()"
   ]
  },
  {
   "cell_type": "code",
   "execution_count": 11,
   "metadata": {},
   "outputs": [],
   "source": [
    "#emotionen zu den Daten hinzufügen\n",
    "emotions_col=[]\n",
    "j=0\n",
    "while j<len(data.age):\n",
    "    for i in emotions:\n",
    "        emotions_col.append(i)\n",
    "    j+=7\n",
    "for i in range(6):\n",
    "    emotions_col.pop()\n",
    "data[\"emotions\"] = emotions_col"
   ]
  },
  {
   "cell_type": "code",
   "execution_count": 12,
   "metadata": {},
   "outputs": [],
   "source": [
    "#hinzufügen der Bankprodukte anhand einer 80/20 Verteilung\n",
    "neueSpalte=[]\n",
    "for i in data.index:\n",
    "    row = data.iloc[i] # row ist dann vom Datentyp Serie\n",
    "    if row.age==\"Jung\" and row.emotions==\"angry\":\n",
    "        if random.random() > 0.2:\n",
    "            neueSpalte.append(\"Girokonto\")\n",
    "        else:\n",
    "            neueSpalte.append(random.choice(products))\n",
    "    elif row.age==\"Jung\" and row.emotions==\"disgust\":\n",
    "        if random.random() > 0.2:\n",
    "            neueSpalte.append(\"NFT\")\n",
    "        else:\n",
    "            neueSpalte.append(random.choice(products))\n",
    "    elif row.age==\"Jung\" and row.emotions==\"fear\":\n",
    "        if random.random() > 0.2:\n",
    "            neueSpalte.append(\"Berufsunfähigkeitsversicherung\")\n",
    "        else:\n",
    "            neueSpalte.append(random.choice(products))\n",
    "    elif row.age==\"Jung\" and row.emotions==\"happy\":\n",
    "        if random.random() > 0.2:\n",
    "            neueSpalte.append(\"Aktien Depot\")\n",
    "        else:\n",
    "            neueSpalte.append(random.choice(products))\n",
    "    elif row.age==\"Jung\" and row.emotions==\"neutral\":\n",
    "        if random.random() > 0.2:\n",
    "            neueSpalte.append(\"Girokonto\")\n",
    "        else:\n",
    "            neueSpalte.append(random.choice(products))\n",
    "    elif row.age==\"Jung\" and row.emotions==\"sad\":\n",
    "        if random.random() > 0.2:\n",
    "            neueSpalte.append(\"Bausparplan\")\n",
    "        else:\n",
    "            neueSpalte.append(random.choice(products))\n",
    "    elif row.age==\"Jung\" and row.emotions==\"surprise\":\n",
    "        if random.random() > 0.2:\n",
    "            neueSpalte.append(\"Crypto, Hebel Zertifikate\")\n",
    "        else:\n",
    "            neueSpalte.append(random.choice(products))\n",
    "    elif row.age==\"Erwachsen\" and row.emotions==\"angry\":\n",
    "        if random.random() > 0.2:\n",
    "            neueSpalte.append(\"Edelmetall Depot\")\n",
    "        else:\n",
    "            neueSpalte.append(random.choice(products))\n",
    "    elif row.age==\"Erwachsen\" and row.emotions==\"disgust\":\n",
    "        if random.random() > 0.2:\n",
    "            neueSpalte.append(\"Kreditkarte\")\n",
    "        else:\n",
    "            neueSpalte.append(random.choice(products))\n",
    "    elif row.age==\"Erwachsen\" and row.emotions==\"fear\":\n",
    "        if random.random() > 0.2:\n",
    "            neueSpalte.append(\"Rentenversicherung\")\n",
    "        else:\n",
    "            neueSpalte.append(random.choice(products))\n",
    "    elif row.age==\"Erwachsen\" and row.emotions==\"happy\":\n",
    "        if random.random() > 0.2:\n",
    "            neueSpalte.append(\"Gemeinschaftskonto, Tagesgeldkonto\")\n",
    "        else:\n",
    "            neueSpalte.append(random.choice(products))\n",
    "    elif row.age==\"Erwachsen\" and row.emotions==\"neutral\":\n",
    "        if random.random() > 0.2:\n",
    "            neueSpalte.append(\"Immobilien, Bausparvertrag\")\n",
    "        else:\n",
    "            neueSpalte.append(random.choice(products))\n",
    "    elif row.age==\"Erwachsen\" and row.emotions==\"sad\":\n",
    "        if random.random() > 0.2:\n",
    "            neueSpalte.append(\"Hebel Zertifikate\")\n",
    "        else:\n",
    "            neueSpalte.append(random.choice(products))\n",
    "    elif row.age==\"Erwachsen\" and row.emotions==\"surprise\":\n",
    "        if random.random() > 0.2:\n",
    "            neueSpalte.append(\"NFT, Crypto\")\n",
    "        else:\n",
    "            neueSpalte.append(random.choice(products))\n",
    "    elif row.age==\"Alt\" and row.emotions==\"angry\":\n",
    "        if random.random() > 0.2:\n",
    "            neueSpalte.append(\"Privatkredit\")\n",
    "        else:\n",
    "            neueSpalte.append(random.choice(products))\n",
    "    elif row.age==\"Alt\" and row.emotions==\"disgust\":\n",
    "        if random.random() > 0.2:\n",
    "            neueSpalte.append(\"Staatsanleihen\")\n",
    "        else:\n",
    "            neueSpalte.append(random.choice(products))\n",
    "    elif row.age==\"Alt\" and row.emotions==\"fear\":\n",
    "        if random.random() > 0.2:\n",
    "            neueSpalte.append(\"Lebensversicherung\")\n",
    "        else:\n",
    "            neueSpalte.append(random.choice(products))\n",
    "    elif row.age==\"Alt\" and row.emotions==\"happy\":\n",
    "        if random.random() > 0.2:\n",
    "            neueSpalte.append(\"Immobilien\")\n",
    "        else:\n",
    "            neueSpalte.append(random.choice(products))\n",
    "    elif row.age==\"Alt\" and row.emotions==\"neutral\":\n",
    "        if random.random() > 0.2:\n",
    "            neueSpalte.append(\"Bausparvertrag, Aktien Sparplan\")\n",
    "        else:\n",
    "            neueSpalte.append(random.choice(products))\n",
    "    elif row.age==\"Alt\" and row.emotions==\"sad\":\n",
    "        if random.random() > 0.2:\n",
    "            neueSpalte.append(\"Kreditkarte\")\n",
    "        else:\n",
    "            neueSpalte.append(random.choice(products))\n",
    "    elif row.age==\"Alt\" and row.emotions==\"surprise\":\n",
    "        if random.random() > 0.2:\n",
    "            neueSpalte.append(\"Aktien Depot\")\n",
    "        else:\n",
    "            neueSpalte.append(random.choice(products))\n",
    "    else:\n",
    "        neueSpalte.append(\"---\")   \n",
    "        \n",
    "        \n",
    "data[\"product\"] = neueSpalte\n"
   ]
  },
  {
   "attachments": {},
   "cell_type": "markdown",
   "metadata": {},
   "source": [
    "## Datensatz numerisch ändern\n"
   ]
  },
  {
   "cell_type": "code",
   "execution_count": 13,
   "metadata": {},
   "outputs": [],
   "source": [
    "#War sinnvoll für neuronales Netz\n",
    "for index, value in enumerate(products):\n",
    "    data=data.replace(value,index+1)\n",
    "for index, value in enumerate(emotions):\n",
    "    data=data.replace(value,index+1)\n",
    "for index, value in enumerate(ages):\n",
    "    data=data.replace(value,index+1)"
   ]
  },
  {
   "cell_type": "code",
   "execution_count": 14,
   "metadata": {},
   "outputs": [],
   "source": [
    "#Daten speichern\n",
    "data.to_csv('./data.csv')"
   ]
  },
  {
   "cell_type": "code",
   "execution_count": null,
   "metadata": {},
   "outputs": [],
   "source": []
  }
 ],
 "metadata": {
  "kernelspec": {
   "display_name": "ambience",
   "language": "python",
   "name": "python3"
  },
  "language_info": {
   "codemirror_mode": {
    "name": "ipython",
    "version": 3
   },
   "file_extension": ".py",
   "mimetype": "text/x-python",
   "name": "python",
   "nbconvert_exporter": "python",
   "pygments_lexer": "ipython3",
   "version": "3.10.8"
  },
  "orig_nbformat": 4,
  "vscode": {
   "interpreter": {
    "hash": "739875714c0ff0354efca8b3dd2ff5527fc568e505dc364fc7a39add565d2669"
   }
  }
 },
 "nbformat": 4,
 "nbformat_minor": 2
}
