{
 "cells": [
  {
   "cell_type": "code",
   "execution_count": 1,
   "metadata": {},
   "outputs": [
    {
     "name": "stderr",
     "output_type": "stream",
     "text": [
      "c:\\Users\\a829727\\Anaconda3\\envs\\ambience\\lib\\site-packages\\tqdm\\auto.py:22: TqdmWarning: IProgress not found. Please update jupyter and ipywidgets. See https://ipywidgets.readthedocs.io/en/stable/user_install.html\n",
      "  from .autonotebook import tqdm as notebook_tqdm\n"
     ]
    }
   ],
   "source": [
    "import requests\n",
    "from tensorflow.keras.preprocessing import image\n",
    "\n",
    "from transformers import ViTFeatureExtractor, ViTForImageClassification"
   ]
  },
  {
   "cell_type": "code",
   "execution_count": 2,
   "metadata": {},
   "outputs": [],
   "source": [
    "\n",
    "\n",
    "im = image.load_img(\"./Test-Images/ich.jpg\")\n",
    "\n",
    "# Init model, transforms\n",
    "#model = ViTForImageClassification.from_pretrained('nateraw/vit-age-classifier')\n",
    "#transforms = ViTFeatureExtractor.from_pretrained('nateraw/vit-age-classifier')\n",
    "\n",
    "model = ViTForImageClassification.from_pretrained('./Age-Model')\n",
    "transforms = ViTFeatureExtractor.from_pretrained('./Age-Model')\n",
    "\n",
    "# Transform our image and pass it through the model\n",
    "inputs = transforms(im, return_tensors='pt')\n",
    "output = model(**inputs)\n",
    "\n",
    "# Predicted Class probabilities\n",
    "proba = output.logits.softmax(1)\n",
    "\n",
    "# Predicted Classes\n",
    "preds = proba.argmax(1)\n"
   ]
  },
  {
   "cell_type": "code",
   "execution_count": 3,
   "metadata": {},
   "outputs": [],
   "source": [
    "id2label={\n",
    "    \"0\": \"0-2\",\n",
    "    \"1\": \"3-9\",\n",
    "    \"2\": \"10-19\",\n",
    "    \"3\": \"20-29\",\n",
    "    \"4\": \"30-39\",\n",
    "    \"5\": \"40-49\",\n",
    "    \"6\": \"50-59\",\n",
    "    \"7\": \"60-69\",\n",
    "    \"8\": \"more than 70\"}"
   ]
  },
  {
   "cell_type": "code",
   "execution_count": 4,
   "metadata": {},
   "outputs": [
    {
     "name": "stdout",
     "output_type": "stream",
     "text": [
      "20-29\n"
     ]
    }
   ],
   "source": [
    "print(id2label[str(preds.item())])"
   ]
  }
 ],
 "metadata": {
  "kernelspec": {
   "display_name": "base",
   "language": "python",
   "name": "python3"
  },
  "language_info": {
   "codemirror_mode": {
    "name": "ipython",
    "version": 3
   },
   "file_extension": ".py",
   "mimetype": "text/x-python",
   "name": "python",
   "nbconvert_exporter": "python",
   "pygments_lexer": "ipython3",
   "version": "3.9.7 (default, Sep 16 2021, 16:59:28) [MSC v.1916 64 bit (AMD64)]"
  },
  "orig_nbformat": 4,
  "vscode": {
   "interpreter": {
    "hash": "d64964220b153404c51aa93dcd182e383dd0be91e8cdd8465241601d68e77747"
   }
  }
 },
 "nbformat": 4,
 "nbformat_minor": 2
}
